{
 "cells": [
  {
   "cell_type": "code",
   "execution_count": 2,
   "outputs": [],
   "source": [
    "import cv2\n",
    "import numpy as np\n",
    "import matplotlib.pyplot as plt\n",
    "from time import time\n",
    "\n",
    "img = cv2.cvtColor(cv2.imread(\"./Q3_4.tif\"), cv2.COLOR_BGR2GRAY)\n",
    "H = img.shape[0]\n",
    "W = img.shape[1]"
   ],
   "metadata": {
    "collapsed": false,
    "pycharm": {
     "name": "#%%\n"
    }
   }
  },
  {
   "cell_type": "code",
   "execution_count": null,
   "outputs": [],
   "source": [
    "plt.imshow(img, cmap='gray', vmin=0, vmax=255)\n",
    "plt.show()"
   ],
   "metadata": {
    "collapsed": false,
    "pycharm": {
     "name": "#%%\n"
    }
   }
  },
  {
   "cell_type": "code",
   "execution_count": null,
   "outputs": [],
   "source": [
    "kernel = 1 / 16 * np.array([[1, 2, 1], [2, 4, 2], [1, 2, 1]])\n",
    "kernel"
   ],
   "metadata": {
    "collapsed": false,
    "pycharm": {
     "name": "#%%\n"
    }
   }
  },
  {
   "cell_type": "code",
   "execution_count": null,
   "outputs": [],
   "source": [
    "_kernel_size = kernel.shape[0]\n",
    "assert _kernel_size % 2 == 1  # only handel odd kernel\n",
    "_s_half = _kernel_size // 2\n",
    "_l_half = _kernel_size // 2 + 1\n",
    "padded = np.pad(img, (_s_half, _s_half))\n",
    "_H = H + _s_half\n",
    "_W = W + _s_half\n",
    "padded"
   ],
   "metadata": {
    "collapsed": false,
    "pycharm": {
     "name": "#%%\n"
    }
   }
  },
  {
   "cell_type": "code",
   "execution_count": null,
   "outputs": [],
   "source": [
    "star = time()\n",
    "box_filtered = np.zeros_like(img)\n",
    "for i in range(_s_half, _H):\n",
    "    for j in range(_s_half, _W):\n",
    "        box_filtered[i - 1, j - 1] = np.sum(kernel * padded[i - _s_half:i + _l_half, j - _s_half:j + _l_half])\n",
    "end = time()\n",
    "print('time:', end - star)"
   ],
   "metadata": {
    "collapsed": false,
    "pycharm": {
     "name": "#%%\n"
    }
   }
  },
  {
   "cell_type": "code",
   "execution_count": null,
   "outputs": [],
   "source": [
    "plt.imshow(box_filtered, cmap='gray', vmin=0, vmax=255)\n",
    "plt.show()"
   ],
   "metadata": {
    "collapsed": false,
    "pycharm": {
     "name": "#%%\n"
    }
   }
  },
  {
   "cell_type": "code",
   "execution_count": null,
   "outputs": [],
   "source": [
    "K = 1\n",
    "sigma = 1\n",
    "_kernel_size = np.ceil(6 * sigma).astype(int)\n",
    "if _kernel_size % 2 == 0:\n",
    "    _kernel_size += 1\n",
    "\n",
    "# get the distance matrix\n",
    "R_gen_size = 3 * sigma\n",
    "R_gen_row = np.arange(1, R_gen_size + 1) ** 2\n",
    "R_gen = np.zeros((R_gen_size, R_gen_size))\n",
    "for i in range(1, R_gen_size + 1):\n",
    "    R_gen[i - 1] = R_gen_row + R_gen_row[i - 1]\n",
    "R_right = np.vstack((np.flipud(R_gen), R_gen_row, R_gen))\n",
    "R_mid = np.r_[np.flip(R_gen_row), [0], R_gen_row]\n",
    "R_left = np.fliplr(R_right)\n",
    "R = np.hstack((R_left, R_mid.reshape(_kernel_size, 1), R_right))\n",
    "\n",
    "# generate coefficient w\n",
    "G = K * np.exp(-R / (2 * sigma ** 2))\n",
    "\n",
    "kernel = 1 / np.sum(G) * G\n",
    "# _kernel_size = kernel.shape[0]\n",
    "assert _kernel_size % 2 == 1  # only handel odd kernel\n",
    "_s_half = _kernel_size // 2\n",
    "_l_half = _kernel_size // 2 + 1\n",
    "\n",
    "padded = np.pad(img, (_s_half, _s_half))\n",
    "_H = H + _s_half\n",
    "_W = W + _s_half"
   ],
   "metadata": {
    "collapsed": false,
    "pycharm": {
     "name": "#%%\n"
    }
   }
  },
  {
   "cell_type": "code",
   "execution_count": null,
   "outputs": [],
   "source": [
    "kernel"
   ],
   "metadata": {
    "collapsed": false,
    "pycharm": {
     "name": "#%%\n"
    }
   }
  },
  {
   "cell_type": "code",
   "execution_count": null,
   "outputs": [],
   "source": [
    "star = time()\n",
    "box_filtered = np.zeros_like(img)\n",
    "big_mat = np.zeros((H * W, _kernel_size * _kernel_size))\n",
    "cnt = 0\n",
    "for i in range(_s_half, _H):\n",
    "    for j in range(_s_half, _W):\n",
    "        big_mat[cnt] = padded[i - _s_half:i + _l_half, j - _s_half:j + _l_half].ravel()\n",
    "        cnt += 1\n",
    "box_filtered = (big_mat @ kernel.ravel()).reshape(H, W)\n",
    "end = time()\n",
    "print('time:', end - star)"
   ],
   "metadata": {
    "collapsed": false,
    "pycharm": {
     "name": "#%%\n"
    }
   }
  },
  {
   "cell_type": "code",
   "execution_count": null,
   "outputs": [],
   "source": [
    "plt.imshow(box_filtered, cmap='gray', vmin=0, vmax=255)\n",
    "plt.show()"
   ],
   "metadata": {
    "collapsed": false,
    "pycharm": {
     "name": "#%%\n"
    }
   }
  },
  {
   "cell_type": "code",
   "execution_count": null,
   "outputs": [],
   "source": [
    "padded"
   ],
   "metadata": {
    "collapsed": false,
    "pycharm": {
     "name": "#%%\n"
    }
   }
  },
  {
   "cell_type": "code",
   "execution_count": null,
   "outputs": [],
   "source": [
    "import cv2\n",
    "import numpy as np\n",
    "import matplotlib.pyplot as plt\n",
    "from time import time\n",
    "\n",
    "# img = cv2.cvtColor(cv2.imread(\"./Q3_4.tif\"), cv2.COLOR_BGR2GRAY)\n",
    "# H = img.shape[0]\n",
    "# W = img.shape[1]"
   ],
   "metadata": {
    "collapsed": false,
    "pycharm": {
     "name": "#%%\n"
    }
   }
  },
  {
   "cell_type": "code",
   "execution_count": 107,
   "outputs": [
    {
     "data": {
      "text/plain": "array([[[ 0,  1,  2],\n        [ 3,  4,  5],\n        [ 6,  7,  8]],\n\n       [[ 1,  2,  3],\n        [ 4,  5,  6],\n        [ 7,  8,  9]],\n\n       [[ 2,  3,  4],\n        [ 5,  6,  7],\n        [ 8,  9, 10]]])"
     },
     "execution_count": 107,
     "metadata": {},
     "output_type": "execute_result"
    }
   ],
   "source": [
    "parallel = 2\n",
    "arr = np.array([np.arange(9).reshape(3, 3),\n",
    "                np.arange(1, 10).reshape(3, 3),\n",
    "                np.arange(2, 11).reshape(3, 3)])\n",
    "arr"
   ],
   "metadata": {
    "collapsed": false,
    "pycharm": {
     "name": "#%%\n"
    }
   }
  },
  {
   "cell_type": "code",
   "execution_count": 180,
   "outputs": [],
   "source": [
    "def img2big_mat(arr, m_size, pad=True, pad_mode='constant'):\n",
    "    \"\"\"\n",
    "    calculate all the neighbors by iterating the array\n",
    "\n",
    "    :param pad_mode: refer to definition of `np.pad`, 'edge', 'reflect', 'symmetric' are commonly used pad methods\n",
    "    :param pad: whether pad the arr after m_size, default is yes\n",
    "    :param arr: the input image or array\n",
    "    :param m_size: is the scale of the neighborhood size\n",
    "    :return: the padded arr, and a (pixel_cnt x m_size**2) size array contains all neighbors\n",
    "    \"\"\"\n",
    "    _H = arr.shape[0]\n",
    "    _W = arr.shape[1]\n",
    "    assert _H >= m_size and _W >= m_size\n",
    "    _half = m_size // 2\n",
    "    _l_half = _half + 1\n",
    "    _padded = np.pad(arr, (_half, _half), mode=pad_mode).astype(np.uint8)\n",
    "    big_mat = np.zeros((_H * _W, m_size * m_size), dtype=np.uint8)\n",
    "    cnt = 0\n",
    "    for i in range(_half, _H + 1):\n",
    "        for j in range(_half, _W + 1):\n",
    "            big_mat[cnt] = _padded[i - _half:i + _l_half, j - _half:j + _l_half].ravel()\n",
    "            cnt += 1\n",
    "    return _padded, big_mat"
   ],
   "metadata": {
    "collapsed": false,
    "pycharm": {
     "name": "#%%\n"
    }
   }
  },
  {
   "cell_type": "code",
   "execution_count": 177,
   "outputs": [],
   "source": [
    "def hist(arr, _min=0, _max=255, parallel=1):\n",
    "    \"\"\"\n",
    "    Use a tricky method with the efficient numpy. Avoid using for loop twice to iterate the image, because it is slow!\n",
    "\n",
    "    :param parallel: 0 means that arr is single image or array, otherwise it is an array of multiple images or arrays\n",
    "    :param arr: the input image or array\n",
    "    :param _min: minimum value of arr\n",
    "    :param _max: maximum value of arr\n",
    "    :return: histogram bins with size of (parallel x _max - _min + 1)\n",
    "    \"\"\"\n",
    "    _hist = np.zeros((parallel, _max - _min + 1))\n",
    "    if parallel == 1:\n",
    "        for v in range(_min, _max + 1):\n",
    "            _hist[v] = np.sum(arr == v)\n",
    "    else:\n",
    "        for v in range(_min, _max + 1):\n",
    "            _hist[:, v] = np.sum(arr == v, axis=1)\n",
    "    return _hist"
   ],
   "metadata": {
    "collapsed": false,
    "pycharm": {
     "name": "#%%\n"
    }
   }
  },
  {
   "cell_type": "code",
   "execution_count": 178,
   "outputs": [
    {
     "data": {
      "text/plain": "array([[ 0,  1,  2,  3,  4,  5],\n       [ 6,  7,  8,  9, 10, 11],\n       [12, 13, 14, 15, 16, 17],\n       [18, 19, 20, 21, 22, 23],\n       [24, 25, 26, 27, 28, 29]])"
     },
     "execution_count": 178,
     "metadata": {},
     "output_type": "execute_result"
    }
   ],
   "source": [
    "img = np.arange(30).reshape(5, 6)\n",
    "img"
   ],
   "metadata": {
    "collapsed": false,
    "pycharm": {
     "name": "#%%\n"
    }
   }
  },
  {
   "cell_type": "code",
   "execution_count": 181,
   "outputs": [
    {
     "data": {
      "text/plain": "array([[ 0,  0,  0,  0,  0,  1,  0,  6,  7],\n       [ 0,  0,  0,  0,  1,  2,  6,  7,  8],\n       [ 0,  0,  0,  1,  2,  3,  7,  8,  9],\n       [ 0,  0,  0,  2,  3,  4,  8,  9, 10],\n       [ 0,  0,  0,  3,  4,  5,  9, 10, 11],\n       [ 0,  0,  0,  4,  5,  0, 10, 11,  0],\n       [ 0,  0,  1,  0,  6,  7,  0, 12, 13],\n       [ 0,  1,  2,  6,  7,  8, 12, 13, 14],\n       [ 1,  2,  3,  7,  8,  9, 13, 14, 15],\n       [ 2,  3,  4,  8,  9, 10, 14, 15, 16],\n       [ 3,  4,  5,  9, 10, 11, 15, 16, 17],\n       [ 4,  5,  0, 10, 11,  0, 16, 17,  0],\n       [ 0,  6,  7,  0, 12, 13,  0, 18, 19],\n       [ 6,  7,  8, 12, 13, 14, 18, 19, 20],\n       [ 7,  8,  9, 13, 14, 15, 19, 20, 21],\n       [ 8,  9, 10, 14, 15, 16, 20, 21, 22],\n       [ 9, 10, 11, 15, 16, 17, 21, 22, 23],\n       [10, 11,  0, 16, 17,  0, 22, 23,  0],\n       [ 0, 12, 13,  0, 18, 19,  0, 24, 25],\n       [12, 13, 14, 18, 19, 20, 24, 25, 26],\n       [13, 14, 15, 19, 20, 21, 25, 26, 27],\n       [14, 15, 16, 20, 21, 22, 26, 27, 28],\n       [15, 16, 17, 21, 22, 23, 27, 28, 29],\n       [16, 17,  0, 22, 23,  0, 28, 29,  0],\n       [ 0, 18, 19,  0, 24, 25,  0,  0,  0],\n       [18, 19, 20, 24, 25, 26,  0,  0,  0],\n       [19, 20, 21, 25, 26, 27,  0,  0,  0],\n       [20, 21, 22, 26, 27, 28,  0,  0,  0],\n       [21, 22, 23, 27, 28, 29,  0,  0,  0],\n       [22, 23,  0, 28, 29,  0,  0,  0,  0]], dtype=uint8)"
     },
     "execution_count": 181,
     "metadata": {},
     "output_type": "execute_result"
    }
   ],
   "source": [
    "padded_, arr_big = img2big_mat(img, 3)\n",
    "input_hist = hist(arr_big, parallel=arr_big.shape[0])\n",
    "arr_big"
   ],
   "metadata": {
    "collapsed": false,
    "pycharm": {
     "name": "#%%\n"
    }
   }
  },
  {
   "cell_type": "code",
   "execution_count": 203,
   "outputs": [],
   "source": [
    "_m_size = arr_big.shape[1]\n",
    "_half = _m_size // 2\n",
    "r_pdf = input_hist / _m_size\n",
    "r_cdf = np.round(255 * np.cumsum(r_pdf, axis=1)).astype(int)\n",
    "output_image = np.zeros(arr_big.shape[0])\n",
    "# for i in range(256):\n",
    "#     output_image[:, arr_big == i] = r_cdf[:, i]"
   ],
   "metadata": {
    "collapsed": false,
    "pycharm": {
     "name": "#%%\n"
    }
   }
  },
  {
   "cell_type": "code",
   "execution_count": 212,
   "outputs": [],
   "source": [
    "center_pixel = arr_big[:, _m_size // 2]\n",
    "for i in range(arr_big.shape[0]):\n",
    "    output_image[i] = r_cdf[i, center_pixel[i]]"
   ],
   "metadata": {
    "collapsed": false,
    "pycharm": {
     "name": "#%%\n"
    }
   }
  },
  {
   "cell_type": "code",
   "execution_count": 206,
   "outputs": [
    {
     "data": {
      "text/plain": "array([[ 0,  0,  0,  0,  0,  1,  0,  6,  7],\n       [ 0,  0,  0,  0,  1,  2,  6,  7,  8],\n       [ 0,  0,  0,  1,  2,  3,  7,  8,  9],\n       [ 0,  0,  0,  2,  3,  4,  8,  9, 10],\n       [ 0,  0,  0,  3,  4,  5,  9, 10, 11],\n       [ 0,  0,  0,  4,  5,  0, 10, 11,  0],\n       [ 0,  0,  1,  0,  6,  7,  0, 12, 13],\n       [ 0,  1,  2,  6,  7,  8, 12, 13, 14],\n       [ 1,  2,  3,  7,  8,  9, 13, 14, 15],\n       [ 2,  3,  4,  8,  9, 10, 14, 15, 16],\n       [ 3,  4,  5,  9, 10, 11, 15, 16, 17],\n       [ 4,  5,  0, 10, 11,  0, 16, 17,  0],\n       [ 0,  6,  7,  0, 12, 13,  0, 18, 19],\n       [ 6,  7,  8, 12, 13, 14, 18, 19, 20],\n       [ 7,  8,  9, 13, 14, 15, 19, 20, 21],\n       [ 8,  9, 10, 14, 15, 16, 20, 21, 22],\n       [ 9, 10, 11, 15, 16, 17, 21, 22, 23],\n       [10, 11,  0, 16, 17,  0, 22, 23,  0],\n       [ 0, 12, 13,  0, 18, 19,  0, 24, 25],\n       [12, 13, 14, 18, 19, 20, 24, 25, 26],\n       [13, 14, 15, 19, 20, 21, 25, 26, 27],\n       [14, 15, 16, 20, 21, 22, 26, 27, 28],\n       [15, 16, 17, 21, 22, 23, 27, 28, 29],\n       [16, 17,  0, 22, 23,  0, 28, 29,  0],\n       [ 0, 18, 19,  0, 24, 25,  0,  0,  0],\n       [18, 19, 20, 24, 25, 26,  0,  0,  0],\n       [19, 20, 21, 25, 26, 27,  0,  0,  0],\n       [20, 21, 22, 26, 27, 28,  0,  0,  0],\n       [21, 22, 23, 27, 28, 29,  0,  0,  0],\n       [22, 23,  0, 28, 29,  0,  0,  0,  0]], dtype=uint8)"
     },
     "execution_count": 206,
     "metadata": {},
     "output_type": "execute_result"
    }
   ],
   "source": [
    "arr_big"
   ],
   "metadata": {
    "collapsed": false,
    "pycharm": {
     "name": "#%%\n"
    }
   }
  },
  {
   "cell_type": "code",
   "execution_count": 205,
   "outputs": [
    {
     "data": {
      "text/plain": "array([[170, 198, 198, ..., 255, 255, 255],\n       [113, 142, 170, ..., 255, 255, 255],\n       [ 85, 113, 142, ..., 255, 255, 255],\n       ...,\n       [ 85,  85,  85, ..., 255, 255, 255],\n       [ 85,  85,  85, ..., 255, 255, 255],\n       [142, 142, 142, ..., 255, 255, 255]])"
     },
     "execution_count": 205,
     "metadata": {},
     "output_type": "execute_result"
    }
   ],
   "source": [
    "r_cdf"
   ],
   "metadata": {
    "collapsed": false,
    "pycharm": {
     "name": "#%%\n"
    }
   }
  },
  {
   "cell_type": "code",
   "execution_count": 208,
   "outputs": [
    {
     "data": {
      "text/plain": "array([ 0,  1,  2,  3,  4,  5,  6,  7,  8,  9, 10, 11, 12, 13, 14, 15, 16,\n       17, 18, 19, 20, 21, 22, 23, 24, 25, 26, 27, 28, 29], dtype=uint8)"
     },
     "execution_count": 208,
     "metadata": {},
     "output_type": "execute_result"
    }
   ],
   "source": [
    "center_pixel"
   ],
   "metadata": {
    "collapsed": false,
    "pycharm": {
     "name": "#%%\n"
    }
   }
  },
  {
   "cell_type": "code",
   "execution_count": 211,
   "outputs": [
    {
     "data": {
      "text/plain": "170"
     },
     "execution_count": 211,
     "metadata": {},
     "output_type": "execute_result"
    }
   ],
   "source": [
    "r_cdf[0, center_pixel[0]]"
   ],
   "metadata": {
    "collapsed": false,
    "pycharm": {
     "name": "#%%\n"
    }
   }
  },
  {
   "cell_type": "code",
   "execution_count": 3,
   "outputs": [],
   "source": [
    "arr = cv2.cvtColor(cv2.imread('Q3_3.tif'), cv2.COLOR_RGB2GRAY)\n",
    "m_size = 5\n",
    "_H = arr.shape[0]\n",
    "_W = arr.shape[1]\n",
    "assert _H >= m_size and _W >= m_size\n",
    "_half = m_size // 2\n",
    "_l_half = _half + 1\n",
    "_padded = np.pad(arr, (_half, _half))\n",
    "big_mat = np.zeros((_H * _W, m_size * m_size))\n",
    "cnt = 0\n",
    "for i in range(_half, _H + _half):\n",
    "    for j in range(_half, _W + _half):\n",
    "        big_mat[cnt] = _padded[i - _half:i + _l_half, j - _half:j + _l_half].ravel()\n",
    "        cnt += 1"
   ],
   "metadata": {
    "collapsed": false,
    "pycharm": {
     "name": "#%%\n"
    }
   }
  },
  {
   "cell_type": "code",
   "execution_count": 9,
   "outputs": [
    {
     "data": {
      "text/plain": "array([[  0,   0,   0, ...,   0,   0,   0],\n       [  0,   0,   0, ...,   0,   0,   0],\n       [  0,   0, 227, ..., 227,   0,   0],\n       ...,\n       [  0,   0, 227, ..., 227,   0,   0],\n       [  0,   0,   0, ...,   0,   0,   0],\n       [  0,   0,   0, ...,   0,   0,   0]], dtype=uint8)"
     },
     "execution_count": 9,
     "metadata": {},
     "output_type": "execute_result"
    }
   ],
   "source": [
    "_padded"
   ],
   "metadata": {
    "collapsed": false,
    "pycharm": {
     "name": "#%%\n"
    }
   }
  },
  {
   "cell_type": "code",
   "execution_count": 21,
   "outputs": [
    {
     "data": {
      "text/plain": "array([[  0.,   0.,   0.,   0.,   0.],\n       [  0.,   0.,   0.,   0.,   0.],\n       [227., 227., 227., 227.,   0.],\n       [227., 227., 227., 227.,   0.],\n       [227., 227., 227., 227.,   0.]])"
     },
     "execution_count": 21,
     "metadata": {},
     "output_type": "execute_result"
    }
   ],
   "source": [
    "big_mat[510].reshape(5, 5)"
   ],
   "metadata": {
    "collapsed": false,
    "pycharm": {
     "name": "#%%\n"
    }
   }
  }
 ],
 "metadata": {
  "kernelspec": {
   "display_name": "Python 3",
   "language": "python",
   "name": "python3"
  },
  "language_info": {
   "codemirror_mode": {
    "name": "ipython",
    "version": 2
   },
   "file_extension": ".py",
   "mimetype": "text/x-python",
   "name": "python",
   "nbconvert_exporter": "python",
   "pygments_lexer": "ipython2",
   "version": "2.7.6"
  }
 },
 "nbformat": 4,
 "nbformat_minor": 0
}